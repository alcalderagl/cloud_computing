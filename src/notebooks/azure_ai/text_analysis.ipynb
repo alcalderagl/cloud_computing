{
 "cells": [
  {
   "cell_type": "markdown",
   "metadata": {},
   "source": [
    "### Master of Applied Artificial Intelligence\n",
    "\n",
    "**Course: TC4031 - Cloud Computing**\n",
    "\n",
    "<img src=\"./../../../assets/logo.png\" alt=\"Image Alt Text\" width=\"500\"/>\n",
    "\n",
    "**Text analysis**\n",
    "\n",
    "Tutor: Dr. Eduardo Antonio Cendejas\n",
    "\n",
    "\n",
    "Team members:\n",
    "* Alejandro Calderon Aguilar - A01795353"
   ]
  },
  {
   "cell_type": "markdown",
   "metadata": {},
   "source": [
    "### Importing libraries"
   ]
  },
  {
   "cell_type": "code",
   "execution_count": 49,
   "metadata": {},
   "outputs": [
    {
     "data": {
      "text/plain": [
       "True"
      ]
     },
     "execution_count": 49,
     "metadata": {},
     "output_type": "execute_result"
    }
   ],
   "source": [
    "import os\n",
    "import json\n",
    "import matplotlib.pyplot as plt\n",
    "import numpy as np\n",
    "import requests\n",
    "from dotenv import load_dotenv\n",
    "\n",
    "# Load .env file\n",
    "load_dotenv()"
   ]
  },
  {
   "cell_type": "code",
   "execution_count": 52,
   "metadata": {},
   "outputs": [],
   "source": [
    "def sentiment_analysis():\n",
    "    AZURE_ENDPOINT = os.getenv(\"ENDPOINTM\")\n",
    "    # Example for sentiment analysis\n",
    "    TEXT_ANALYTICS_URL = f\"{AZURE_ENDPOINT}text/analytics/v3.1/sentiment\"  \n",
    "    \n",
    "    # API Key from Azure Portal\n",
    "    API_KEY = os.getenv(\"MY_AZURE_APIKEY\")\n",
    "\n",
    "    # Define the text to analyze\n",
    "    documents = {\n",
    "        \"documents\": [\n",
    "            {\"id\": \"1\", \"language\": \"en\", \"text\": \"I hated the movie. It was so slow!\"},\n",
    "            {\"id\": \"2\", \"language\": \"en\", \"text\": \"The movie made it into my top ten favorites. What a great movie!\"}\n",
    "        ]\n",
    "    }\n",
    "\n",
    "    # Headers for the request\n",
    "    headers = {\n",
    "        \"Ocp-Apim-Subscription-Key\": API_KEY,\n",
    "        \"Content-Type\": \"application/json\"\n",
    "    }\n",
    "\n",
    "    # Send POST request to Azure API\n",
    "    response = requests.post(TEXT_ANALYTICS_URL, headers=headers, json=documents)\n",
    "\n",
    "    # Parse response\n",
    "    if response.status_code == 200:\n",
    "        result = response.json()\n",
    "        # Pretty-print JSON response\n",
    "        print(json.dumps(result, indent=2))  \n",
    "    else:\n",
    "        print(f\"Error {response.status_code}: {response.text}\")"
   ]
  },
  {
   "cell_type": "code",
   "execution_count": 53,
   "metadata": {},
   "outputs": [
    {
     "name": "stdout",
     "output_type": "stream",
     "text": [
      "{\n",
      "  \"documents\": [\n",
      "    {\n",
      "      \"id\": \"1\",\n",
      "      \"sentiment\": \"negative\",\n",
      "      \"confidenceScores\": {\n",
      "        \"positive\": 0.0,\n",
      "        \"neutral\": 0.0,\n",
      "        \"negative\": 1.0\n",
      "      },\n",
      "      \"sentences\": [\n",
      "        {\n",
      "          \"sentiment\": \"negative\",\n",
      "          \"confidenceScores\": {\n",
      "            \"positive\": 0.0,\n",
      "            \"neutral\": 0.0,\n",
      "            \"negative\": 1.0\n",
      "          },\n",
      "          \"offset\": 0,\n",
      "          \"length\": 19,\n",
      "          \"text\": \"I hated the movie. \"\n",
      "        },\n",
      "        {\n",
      "          \"sentiment\": \"negative\",\n",
      "          \"confidenceScores\": {\n",
      "            \"positive\": 0.0,\n",
      "            \"neutral\": 0.0,\n",
      "            \"negative\": 1.0\n",
      "          },\n",
      "          \"offset\": 19,\n",
      "          \"length\": 15,\n",
      "          \"text\": \"It was so slow!\"\n",
      "        }\n",
      "      ],\n",
      "      \"warnings\": []\n",
      "    },\n",
      "    {\n",
      "      \"id\": \"2\",\n",
      "      \"sentiment\": \"positive\",\n",
      "      \"confidenceScores\": {\n",
      "        \"positive\": 0.95,\n",
      "        \"neutral\": 0.05,\n",
      "        \"negative\": 0.0\n",
      "      },\n",
      "      \"sentences\": [\n",
      "        {\n",
      "          \"sentiment\": \"positive\",\n",
      "          \"confidenceScores\": {\n",
      "            \"positive\": 0.9,\n",
      "            \"neutral\": 0.1,\n",
      "            \"negative\": 0.0\n",
      "          },\n",
      "          \"offset\": 0,\n",
      "          \"length\": 45,\n",
      "          \"text\": \"The movie made it into my top ten favorites. \"\n",
      "        },\n",
      "        {\n",
      "          \"sentiment\": \"positive\",\n",
      "          \"confidenceScores\": {\n",
      "            \"positive\": 1.0,\n",
      "            \"neutral\": 0.0,\n",
      "            \"negative\": 0.0\n",
      "          },\n",
      "          \"offset\": 45,\n",
      "          \"length\": 19,\n",
      "          \"text\": \"What a great movie!\"\n",
      "        }\n",
      "      ],\n",
      "      \"warnings\": []\n",
      "    }\n",
      "  ],\n",
      "  \"errors\": [],\n",
      "  \"modelVersion\": \"2025-01-01\"\n",
      "}\n"
     ]
    }
   ],
   "source": [
    "sentiment_analysis()"
   ]
  }
 ],
 "metadata": {
  "kernelspec": {
   "display_name": "base",
   "language": "python",
   "name": "python3"
  },
  "language_info": {
   "codemirror_mode": {
    "name": "ipython",
    "version": 3
   },
   "file_extension": ".py",
   "mimetype": "text/x-python",
   "name": "python",
   "nbconvert_exporter": "python",
   "pygments_lexer": "ipython3",
   "version": "3.11.5"
  }
 },
 "nbformat": 4,
 "nbformat_minor": 2
}
