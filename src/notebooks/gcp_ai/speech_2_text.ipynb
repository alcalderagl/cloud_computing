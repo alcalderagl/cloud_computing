{
 "cells": [
  {
   "cell_type": "markdown",
   "metadata": {},
   "source": [
    "### Master of Applied Artificial Intelligence\n",
    "\n",
    "**Course: TC4031 - Cloud Computing**\n",
    "\n",
    "<img src=\"./../../../assets/logo.png\" alt=\"Image Alt Text\" width=\"500\"/>\n",
    "\n",
    "**Cloud Translation API**\n",
    "\n",
    "Tutor: Dr. Eduardo Antonio Cendejas\n",
    "\n",
    "\n",
    "Team members:\n",
    "* Alejandro Calderon Aguilar - A01795353"
   ]
  },
  {
   "cell_type": "code",
   "execution_count": 19,
   "metadata": {},
   "outputs": [
    {
     "data": {
      "text/plain": [
       "True"
      ]
     },
     "execution_count": 19,
     "metadata": {},
     "output_type": "execute_result"
    }
   ],
   "source": [
    "import os\n",
    "import json\n",
    "from dotenv import load_dotenv\n",
    "from google.cloud import speech_v1 as speech\n",
    "from pydub import AudioSegment\n",
    "import wave\n",
    "\n",
    "# Load .env file\n",
    "load_dotenv()\n"
   ]
  },
  {
   "cell_type": "code",
   "execution_count": null,
   "metadata": {},
   "outputs": [],
   "source": [
    "class Speech2Text:\n",
    "    \n",
    "    def __init__(self):\n",
    "        pass\n",
    "    \n",
    "    def _open_audio(self, file_path):\n",
    "        \"\"\"\n",
    "        Método privado para abrir un archivo WAV y obtener su tasa de muestreo (sample rate).\n",
    "        \n",
    "        Args:\n",
    "            file_path (str): Ruta del archivo de audio.\n",
    "        \n",
    "        Returns:\n",
    "            int: Frecuencia de muestreo del archivo de audio.\n",
    "        \"\"\"\n",
    "        \n",
    "        with wave.open(file_path, \"rb\") as wav_file:\n",
    "            # Abre el archivo en modo lectura binaria\n",
    "            sample_rate = wav_file.getframerate()\n",
    "            # Obtiene la tasa de muestreo del audio\n",
    "            print(f\"Sample rate: {sample_rate}\")\n",
    "            return sample_rate\n",
    "        \n",
    "    \n",
    "    def convert2mono(self, input_file, output_file):\n",
    "        \"\"\"\n",
    "        Convierte un archivo de audio a formato mono (1 canal) y lo guarda en formato WAV.\n",
    "        \n",
    "        Args:\n",
    "            input_file (str): Ruta del archivo de audio de entrada.\n",
    "            output_file (str): Ruta donde se guardará el archivo convertido.\n",
    "        \"\"\"\n",
    "        # Carga el archivo de audio en cualquier formato soportado\n",
    "        audio = AudioSegment.from_file(input_file)\n",
    "        # Convierte el audio a mono (1 canal)\n",
    "        audio = audio.set_channels(1)\n",
    "         # Exporta el audio en formato WAV\n",
    "        audio.export(output_file, format=\"wav\")\n",
    "        print(\"converted to mono\")\n",
    "        \n",
    "    def transcribe_audio(self,input_file):\n",
    "        \"\"\"\n",
    "        Transcribe un archivo de audio a texto usando Google Cloud Speech-to-Text.\n",
    "        \n",
    "        Args:\n",
    "            input_file (str): Ruta del archivo de audio a transcribir.\n",
    "        \n",
    "        Returns:\n",
    "            response: Respuesta de Google Cloud Speech-to-Text con la transcripción.\n",
    "        \"\"\"\n",
    "        with open(input_file, \"rb\") as audio_file:\n",
    "            # Lee el contenido del archivo de audio\n",
    "            content = audio_file.read()\n",
    "            # Prepara el objeto de audio para Google Cloud\n",
    "            audio = speech.RecognitionAudio(content=content)\n",
    "            \n",
    "            # Configuración para la transcripción de audio\n",
    "            config = speech.RecognitionConfig(\n",
    "                encoding = speech.RecognitionConfig.AudioEncoding.LINEAR16, # Codificación de audio en formato WAV (PCM)\n",
    "                sample_rate_hertz = self._open_audio(input_file), # Obtiene la tasa de muestreo del archivo\n",
    "                language_code = \"fr\" # Especifica el idioma (francés en este caso)\n",
    "            )\n",
    "            \n",
    "            # Carga las credenciales de Google Cloud desde un archivo JSON\n",
    "            client = speech.SpeechClient.from_service_account_file(\"./../../../speech2text_credentials.json\")\n",
    "            \n",
    "            # Envía el audio a Google Cloud Speech-to-Text para la transcripción\n",
    "            response = client.recognize(config=config, audio=audio)\n",
    "            \n",
    "            for result in response.results:\n",
    "                print(f\"Transcript: {result.alternatives[0].transcript}\")\n",
    "                print(f\"confidence: {result.alternatives[0].confidence}\")\n",
    "            \n",
    "        return response"
   ]
  },
  {
   "cell_type": "code",
   "execution_count": 23,
   "metadata": {},
   "outputs": [
    {
     "name": "stdout",
     "output_type": "stream",
     "text": [
      "converted to mono\n"
     ]
    }
   ],
   "source": [
    "speech2Text = Speech2Text()\n",
    "file_input = \"./../../../assets/audio1.wav\"\n",
    "file_output = \"./../../../assets/audio1_mono.wav\"\n",
    "speech2Text.convert2mono(file_input,file_output)"
   ]
  },
  {
   "cell_type": "code",
   "execution_count": 24,
   "metadata": {},
   "outputs": [
    {
     "name": "stdout",
     "output_type": "stream",
     "text": [
      "Sample rate: 24000\n",
      "Transcript: tu habites une belle ville dans le nord de la France il y a encore qui est très agréable pour aller se balader lorsqu'il fait beau il est possible de faire du vélo dans un parc autour d'une citadelle fortifiée\n",
      "confidence: 0.8756152391433716\n"
     ]
    }
   ],
   "source": [
    "response = speech2Text.transcribe_audio(file_output)"
   ]
  }
 ],
 "metadata": {
  "kernelspec": {
   "display_name": "base",
   "language": "python",
   "name": "python3"
  },
  "language_info": {
   "codemirror_mode": {
    "name": "ipython",
    "version": 3
   },
   "file_extension": ".py",
   "mimetype": "text/x-python",
   "name": "python",
   "nbconvert_exporter": "python",
   "pygments_lexer": "ipython3",
   "version": "3.11.5"
  }
 },
 "nbformat": 4,
 "nbformat_minor": 2
}
