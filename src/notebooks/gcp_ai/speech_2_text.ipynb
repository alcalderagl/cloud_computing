{
 "cells": [
  {
   "cell_type": "markdown",
   "metadata": {},
   "source": [
    "### Master of Applied Artificial Intelligence\n",
    "\n",
    "**Course: TC4031 - Cloud Computing**\n",
    "\n",
    "<img src=\"./../../../assets/logo.png\" alt=\"Image Alt Text\" width=\"500\"/>\n",
    "\n",
    "**Cloud Translation API**\n",
    "\n",
    "Tutor: Dr. Eduardo Antonio Cendejas\n",
    "\n",
    "\n",
    "Team members:\n",
    "* Alejandro Calderon Aguilar - A01795353"
   ]
  },
  {
   "cell_type": "code",
   "execution_count": 19,
   "metadata": {},
   "outputs": [
    {
     "data": {
      "text/plain": [
       "True"
      ]
     },
     "execution_count": 19,
     "metadata": {},
     "output_type": "execute_result"
    }
   ],
   "source": [
    "import os\n",
    "import json\n",
    "from dotenv import load_dotenv\n",
    "from google.cloud import speech_v1 as speech\n",
    "from pydub import AudioSegment\n",
    "import wave\n",
    "\n",
    "# Load .env file\n",
    "load_dotenv()\n"
   ]
  },
  {
   "cell_type": "code",
   "execution_count": 20,
   "metadata": {},
   "outputs": [],
   "source": [
    "class Speech2Text:  \n",
    "    def __init__(self):\n",
    "        pass\n",
    "    \n",
    "    def _open_audio(self, file_path):\n",
    "        with wave.open(file_path, \"rb\") as wav_file:\n",
    "            sample_rate = wav_file.getframerate()\n",
    "            print(f\"Sample rate: {sample_rate}\")\n",
    "            return sample_rate\n",
    "        \n",
    "    \n",
    "    def convert2mono(self, input_file, output_file):\n",
    "        audio = AudioSegment.from_file(input_file)\n",
    "        audio = audio.set_channels(1)\n",
    "        audio.export(output_file, format=\"wav\")\n",
    "        print(\"converted to mono\")\n",
    "        \n",
    "    def transcribe_audio(self,input_file):\n",
    "        with open(input_file, \"rb\") as audio_file:\n",
    "            content = audio_file.read()\n",
    "            audio = speech.RecognitionAudio(content=content)\n",
    "            config = speech.RecognitionConfig(\n",
    "                encoding = speech.RecognitionConfig.AudioEncoding.LINEAR16,\n",
    "                sample_rate_hertz = self._open_audio(input_file),\n",
    "                language_code = \"fr\"\n",
    "            )\n",
    "            # credentials = os.getenv(\"GCP_CREDENTIALS\")\n",
    "            client = speech.SpeechClient.from_service_account_file(\"./../../../speech2text_credentials.json\")\n",
    "            response = client.recognize(config=config, audio=audio)\n",
    "            \n",
    "            for result in response.results:\n",
    "                print(f\"Transcript: {result.alternatives[0].transcript}\")\n",
    "                print(f\"confidence: {result.alternatives[0].confidence}\")\n",
    "            \n",
    "        return response"
   ]
  },
  {
   "cell_type": "code",
   "execution_count": 23,
   "metadata": {},
   "outputs": [
    {
     "name": "stdout",
     "output_type": "stream",
     "text": [
      "converted to mono\n"
     ]
    }
   ],
   "source": [
    "speech2Text = Speech2Text()\n",
    "file_input = \"./../../../assets/audio1.wav\"\n",
    "file_output = \"./../../../assets/audio1_mono.wav\"\n",
    "speech2Text.convert2mono(file_input,file_output)"
   ]
  },
  {
   "cell_type": "code",
   "execution_count": 24,
   "metadata": {},
   "outputs": [
    {
     "name": "stdout",
     "output_type": "stream",
     "text": [
      "Sample rate: 24000\n",
      "Transcript: tu habites une belle ville dans le nord de la France il y a encore qui est très agréable pour aller se balader lorsqu'il fait beau il est possible de faire du vélo dans un parc autour d'une citadelle fortifiée\n",
      "confidence: 0.8756152391433716\n"
     ]
    }
   ],
   "source": [
    "response = speech2Text.transcribe_audio(file_output)"
   ]
  }
 ],
 "metadata": {
  "kernelspec": {
   "display_name": "base",
   "language": "python",
   "name": "python3"
  },
  "language_info": {
   "codemirror_mode": {
    "name": "ipython",
    "version": 3
   },
   "file_extension": ".py",
   "mimetype": "text/x-python",
   "name": "python",
   "nbconvert_exporter": "python",
   "pygments_lexer": "ipython3",
   "version": "3.11.5"
  }
 },
 "nbformat": 4,
 "nbformat_minor": 2
}
