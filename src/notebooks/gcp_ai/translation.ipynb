{
 "cells": [
  {
   "cell_type": "markdown",
   "metadata": {},
   "source": [
    "### Master of Applied Artificial Intelligence\n",
    "\n",
    "**Course: TC4031 - Cloud Computing**\n",
    "\n",
    "<img src=\"./../../../assets/logo.png\" alt=\"Image Alt Text\" width=\"500\"/>\n",
    "\n",
    "**Cloud Translation API**\n",
    "\n",
    "Tutor: Dr. Eduardo Antonio Cendejas\n",
    "\n",
    "\n",
    "Team members:\n",
    "* Alejandro Calderon Aguilar - A01795353"
   ]
  },
  {
   "cell_type": "code",
   "execution_count": 26,
   "metadata": {},
   "outputs": [
    {
     "data": {
      "text/plain": [
       "True"
      ]
     },
     "execution_count": 26,
     "metadata": {},
     "output_type": "execute_result"
    }
   ],
   "source": [
    "import os\n",
    "import json\n",
    "from google.cloud import translate_v2 as translate\n",
    "from google.oauth2 import service_account\n",
    "from dotenv import load_dotenv\n",
    "\n",
    "# Load .env file\n",
    "load_dotenv()\n"
   ]
  },
  {
   "cell_type": "code",
   "execution_count": 34,
   "metadata": {},
   "outputs": [],
   "source": [
    "class GCPTranslator:\n",
    "    \n",
    "    def __init__(self):\n",
    "        # file_path = os.getenv(\"GCP_CREDENTIALS\")\n",
    "        # self.credentials = self._load_credentials(file_path=file_path)\n",
    "        # print(self.credentials)\n",
    "        credentials = service_account.Credentials.from_service_account_file(\"./../../../gcp_credentials.json\")\n",
    "        self.translate_client = translate.Client(credentials=credentials)\n",
    "    \n",
    "    def translate(self, document: str, lang = \"es\"):\n",
    "        return self.translate_client.translate(document, lang)\n",
    "    \n",
    "    def detectLanguage(self, document: str, ):\n",
    "        return self.translate_client.detect_language(document)\n",
    "    \n",
    "    def _load_credentials(self, file_path):\n",
    "        with open(file_path, \"r\") as file:\n",
    "            data = json.load(file)\n",
    "            return data\n",
    "        \n",
    "    "
   ]
  },
  {
   "cell_type": "code",
   "execution_count": null,
   "metadata": {},
   "outputs": [
    {
     "name": "stdout",
     "output_type": "stream",
     "text": [
      "{'confidence': 1, 'language': 'no', 'input': 'Fanstastisk arbeid'}\n",
      "{'translatedText': 'Trabajo fantástico', 'detectedSourceLanguage': 'no', 'input': 'Fanstastisk arbeid'}\n"
     ]
    }
   ],
   "source": [
    "\n",
    "document = \"Fanstastisk arbeid\"\n",
    "gcp_translator = GCPTranslator()\n",
    "\n",
    "print(gcp_translator.detectLanguage(document=document))\n",
    "print(gcp_translator.translate(document=document))"
   ]
  },
  {
   "cell_type": "code",
   "execution_count": 37,
   "metadata": {},
   "outputs": [
    {
     "name": "stdout",
     "output_type": "stream",
     "text": [
      "{'translatedText': 'Yo soy Alex', 'detectedSourceLanguage': 'de', 'input': 'Ich bin Alex'}\n",
      "{'translatedText': 'No sé por qué no me habló.', 'detectedSourceLanguage': 'fr', 'input': \"Je ne sais pas pourquoi elle n'a pas me parlé\"}\n",
      "{'translatedText': 'Esta es una tecnología que se implementará en código.', 'detectedSourceLanguage': 'en', 'input': 'This is a technology to be implemented in code'}\n"
     ]
    }
   ],
   "source": [
    "documents = [\n",
    "    \"Ich bin Alex\",\n",
    "    \"Je ne sais pas pourquoi elle n'a pas me parlé\",\n",
    "    \"This is a technology to be implemented in code\"\n",
    "]\n",
    "\n",
    "for doc in documents:\n",
    "    print(gcp_translator.translate(document=doc))"
   ]
  }
 ],
 "metadata": {
  "kernelspec": {
   "display_name": "base",
   "language": "python",
   "name": "python3"
  },
  "language_info": {
   "codemirror_mode": {
    "name": "ipython",
    "version": 3
   },
   "file_extension": ".py",
   "mimetype": "text/x-python",
   "name": "python",
   "nbconvert_exporter": "python",
   "pygments_lexer": "ipython3",
   "version": "3.11.5"
  }
 },
 "nbformat": 4,
 "nbformat_minor": 2
}
